{
  "nbformat": 4,
  "nbformat_minor": 0,
  "metadata": {
    "accelerator": "GPU",
    "colab": {
      "provenance": []
    },
    "kernelspec": {
      "display_name": "Python 3",
      "name": "python3"
    },
    "language_info": {
      "name": "python"
    }
  },
  "cells": [
    {
      "cell_type": "markdown",
      "metadata": {
        "id": "onWc0h3xxo_o"
      },
      "source": [
        "### **Combined-Cycle Power Plant Electricity Output Prediction** ###"
      ]
    },
    {
      "cell_type": "code",
      "metadata": {
        "id": "ViRGT0lLwlyf"
      },
      "source": [
        "# Import Libraries for Data Pre-processing\n",
        "import zipfile\n",
        "import numpy as np\n",
        "import pandas as pd\n",
        "from matplotlib import pyplot as plt\n",
        "from sklearn.model_selection import train_test_split\n",
        "from sklearn.preprocessing import MinMaxScaler\n",
        "\n",
        "# Import SVM Libraries\n",
        "from sklearn.svm import SVR as svr\n",
        "\n",
        "# Import KNN Libraries\n",
        "from sklearn.neighbors import KNeighborsRegressor  as knnr\n",
        "\n",
        "# Import GPR Libraries\n",
        "from sklearn.gaussian_process import GaussianProcessRegressor\n",
        "\n",
        "# Import RFR Libraries\n",
        "from sklearn.ensemble import RandomForestRegressor\n",
        "\n",
        "# Import RIDGE Libraries\n",
        "from sklearn.linear_model import Ridge\n",
        "\n",
        "# Import LASSO Libraries\n",
        "from sklearn.linear_model import Lasso\n",
        "\n",
        "# Import ELASTIC_NET Libraries\n",
        "from sklearn.linear_model import ElasticNet\n",
        "\n",
        "# Import ANN Libraries\n",
        "import tensorflow as tf\n",
        "from tensorflow.keras.layers import Dense\n",
        "from tensorflow.keras.layers import Dropout"
      ],
      "execution_count": 1,
      "outputs": []
    },
    {
      "cell_type": "markdown",
      "metadata": {
        "id": "LDPeGc92xeVH"
      },
      "source": [
        "### **First Look At The Data** ###"
      ]
    },
    {
      "cell_type": "code",
      "metadata": {
        "colab": {
          "base_uri": "https://localhost:8080/",
          "height": 206
        },
        "id": "Q4cB_ECox8Th",
        "outputId": "f3fc5f60-43d1-4c18-aa0a-bd5c6646c6d1"
      },
      "source": [
        "# Read dataset\n",
        "data = pd.read_csv(\"/content/Folds5x2_pp.csv\")\n",
        "data.head()"
      ],
      "execution_count": 2,
      "outputs": [
        {
          "output_type": "execute_result",
          "data": {
            "text/plain": [
              "      AT      V       AP     RH      PE\n",
              "0  14.96  41.76  1024.07  73.17  463.26\n",
              "1  25.18  62.96  1020.04  59.08  444.37\n",
              "2   5.11  39.40  1012.16  92.14  488.56\n",
              "3  20.86  57.32  1010.24  76.64  446.48\n",
              "4  10.82  37.50  1009.23  96.62  473.90"
            ],
            "text/html": [
              "\n",
              "  <div id=\"df-3a4b4fd7-a743-4eb1-8e1f-053acd4fd703\" class=\"colab-df-container\">\n",
              "    <div>\n",
              "<style scoped>\n",
              "    .dataframe tbody tr th:only-of-type {\n",
              "        vertical-align: middle;\n",
              "    }\n",
              "\n",
              "    .dataframe tbody tr th {\n",
              "        vertical-align: top;\n",
              "    }\n",
              "\n",
              "    .dataframe thead th {\n",
              "        text-align: right;\n",
              "    }\n",
              "</style>\n",
              "<table border=\"1\" class=\"dataframe\">\n",
              "  <thead>\n",
              "    <tr style=\"text-align: right;\">\n",
              "      <th></th>\n",
              "      <th>AT</th>\n",
              "      <th>V</th>\n",
              "      <th>AP</th>\n",
              "      <th>RH</th>\n",
              "      <th>PE</th>\n",
              "    </tr>\n",
              "  </thead>\n",
              "  <tbody>\n",
              "    <tr>\n",
              "      <th>0</th>\n",
              "      <td>14.96</td>\n",
              "      <td>41.76</td>\n",
              "      <td>1024.07</td>\n",
              "      <td>73.17</td>\n",
              "      <td>463.26</td>\n",
              "    </tr>\n",
              "    <tr>\n",
              "      <th>1</th>\n",
              "      <td>25.18</td>\n",
              "      <td>62.96</td>\n",
              "      <td>1020.04</td>\n",
              "      <td>59.08</td>\n",
              "      <td>444.37</td>\n",
              "    </tr>\n",
              "    <tr>\n",
              "      <th>2</th>\n",
              "      <td>5.11</td>\n",
              "      <td>39.40</td>\n",
              "      <td>1012.16</td>\n",
              "      <td>92.14</td>\n",
              "      <td>488.56</td>\n",
              "    </tr>\n",
              "    <tr>\n",
              "      <th>3</th>\n",
              "      <td>20.86</td>\n",
              "      <td>57.32</td>\n",
              "      <td>1010.24</td>\n",
              "      <td>76.64</td>\n",
              "      <td>446.48</td>\n",
              "    </tr>\n",
              "    <tr>\n",
              "      <th>4</th>\n",
              "      <td>10.82</td>\n",
              "      <td>37.50</td>\n",
              "      <td>1009.23</td>\n",
              "      <td>96.62</td>\n",
              "      <td>473.90</td>\n",
              "    </tr>\n",
              "  </tbody>\n",
              "</table>\n",
              "</div>\n",
              "    <div class=\"colab-df-buttons\">\n",
              "\n",
              "  <div class=\"colab-df-container\">\n",
              "    <button class=\"colab-df-convert\" onclick=\"convertToInteractive('df-3a4b4fd7-a743-4eb1-8e1f-053acd4fd703')\"\n",
              "            title=\"Convert this dataframe to an interactive table.\"\n",
              "            style=\"display:none;\">\n",
              "\n",
              "  <svg xmlns=\"http://www.w3.org/2000/svg\" height=\"24px\" viewBox=\"0 -960 960 960\">\n",
              "    <path d=\"M120-120v-720h720v720H120Zm60-500h600v-160H180v160Zm220 220h160v-160H400v160Zm0 220h160v-160H400v160ZM180-400h160v-160H180v160Zm440 0h160v-160H620v160ZM180-180h160v-160H180v160Zm440 0h160v-160H620v160Z\"/>\n",
              "  </svg>\n",
              "    </button>\n",
              "\n",
              "  <style>\n",
              "    .colab-df-container {\n",
              "      display:flex;\n",
              "      gap: 12px;\n",
              "    }\n",
              "\n",
              "    .colab-df-convert {\n",
              "      background-color: #E8F0FE;\n",
              "      border: none;\n",
              "      border-radius: 50%;\n",
              "      cursor: pointer;\n",
              "      display: none;\n",
              "      fill: #1967D2;\n",
              "      height: 32px;\n",
              "      padding: 0 0 0 0;\n",
              "      width: 32px;\n",
              "    }\n",
              "\n",
              "    .colab-df-convert:hover {\n",
              "      background-color: #E2EBFA;\n",
              "      box-shadow: 0px 1px 2px rgba(60, 64, 67, 0.3), 0px 1px 3px 1px rgba(60, 64, 67, 0.15);\n",
              "      fill: #174EA6;\n",
              "    }\n",
              "\n",
              "    .colab-df-buttons div {\n",
              "      margin-bottom: 4px;\n",
              "    }\n",
              "\n",
              "    [theme=dark] .colab-df-convert {\n",
              "      background-color: #3B4455;\n",
              "      fill: #D2E3FC;\n",
              "    }\n",
              "\n",
              "    [theme=dark] .colab-df-convert:hover {\n",
              "      background-color: #434B5C;\n",
              "      box-shadow: 0px 1px 3px 1px rgba(0, 0, 0, 0.15);\n",
              "      filter: drop-shadow(0px 1px 2px rgba(0, 0, 0, 0.3));\n",
              "      fill: #FFFFFF;\n",
              "    }\n",
              "  </style>\n",
              "\n",
              "    <script>\n",
              "      const buttonEl =\n",
              "        document.querySelector('#df-3a4b4fd7-a743-4eb1-8e1f-053acd4fd703 button.colab-df-convert');\n",
              "      buttonEl.style.display =\n",
              "        google.colab.kernel.accessAllowed ? 'block' : 'none';\n",
              "\n",
              "      async function convertToInteractive(key) {\n",
              "        const element = document.querySelector('#df-3a4b4fd7-a743-4eb1-8e1f-053acd4fd703');\n",
              "        const dataTable =\n",
              "          await google.colab.kernel.invokeFunction('convertToInteractive',\n",
              "                                                    [key], {});\n",
              "        if (!dataTable) return;\n",
              "\n",
              "        const docLinkHtml = 'Like what you see? Visit the ' +\n",
              "          '<a target=\"_blank\" href=https://colab.research.google.com/notebooks/data_table.ipynb>data table notebook</a>'\n",
              "          + ' to learn more about interactive tables.';\n",
              "        element.innerHTML = '';\n",
              "        dataTable['output_type'] = 'display_data';\n",
              "        await google.colab.output.renderOutput(dataTable, element);\n",
              "        const docLink = document.createElement('div');\n",
              "        docLink.innerHTML = docLinkHtml;\n",
              "        element.appendChild(docLink);\n",
              "      }\n",
              "    </script>\n",
              "  </div>\n",
              "\n",
              "\n",
              "<div id=\"df-4c22f5f3-9b01-40a4-b3a0-45c9c41b9d45\">\n",
              "  <button class=\"colab-df-quickchart\" onclick=\"quickchart('df-4c22f5f3-9b01-40a4-b3a0-45c9c41b9d45')\"\n",
              "            title=\"Suggest charts\"\n",
              "            style=\"display:none;\">\n",
              "\n",
              "<svg xmlns=\"http://www.w3.org/2000/svg\" height=\"24px\"viewBox=\"0 0 24 24\"\n",
              "     width=\"24px\">\n",
              "    <g>\n",
              "        <path d=\"M19 3H5c-1.1 0-2 .9-2 2v14c0 1.1.9 2 2 2h14c1.1 0 2-.9 2-2V5c0-1.1-.9-2-2-2zM9 17H7v-7h2v7zm4 0h-2V7h2v10zm4 0h-2v-4h2v4z\"/>\n",
              "    </g>\n",
              "</svg>\n",
              "  </button>\n",
              "\n",
              "<style>\n",
              "  .colab-df-quickchart {\n",
              "      --bg-color: #E8F0FE;\n",
              "      --fill-color: #1967D2;\n",
              "      --hover-bg-color: #E2EBFA;\n",
              "      --hover-fill-color: #174EA6;\n",
              "      --disabled-fill-color: #AAA;\n",
              "      --disabled-bg-color: #DDD;\n",
              "  }\n",
              "\n",
              "  [theme=dark] .colab-df-quickchart {\n",
              "      --bg-color: #3B4455;\n",
              "      --fill-color: #D2E3FC;\n",
              "      --hover-bg-color: #434B5C;\n",
              "      --hover-fill-color: #FFFFFF;\n",
              "      --disabled-bg-color: #3B4455;\n",
              "      --disabled-fill-color: #666;\n",
              "  }\n",
              "\n",
              "  .colab-df-quickchart {\n",
              "    background-color: var(--bg-color);\n",
              "    border: none;\n",
              "    border-radius: 50%;\n",
              "    cursor: pointer;\n",
              "    display: none;\n",
              "    fill: var(--fill-color);\n",
              "    height: 32px;\n",
              "    padding: 0;\n",
              "    width: 32px;\n",
              "  }\n",
              "\n",
              "  .colab-df-quickchart:hover {\n",
              "    background-color: var(--hover-bg-color);\n",
              "    box-shadow: 0 1px 2px rgba(60, 64, 67, 0.3), 0 1px 3px 1px rgba(60, 64, 67, 0.15);\n",
              "    fill: var(--button-hover-fill-color);\n",
              "  }\n",
              "\n",
              "  .colab-df-quickchart-complete:disabled,\n",
              "  .colab-df-quickchart-complete:disabled:hover {\n",
              "    background-color: var(--disabled-bg-color);\n",
              "    fill: var(--disabled-fill-color);\n",
              "    box-shadow: none;\n",
              "  }\n",
              "\n",
              "  .colab-df-spinner {\n",
              "    border: 2px solid var(--fill-color);\n",
              "    border-color: transparent;\n",
              "    border-bottom-color: var(--fill-color);\n",
              "    animation:\n",
              "      spin 1s steps(1) infinite;\n",
              "  }\n",
              "\n",
              "  @keyframes spin {\n",
              "    0% {\n",
              "      border-color: transparent;\n",
              "      border-bottom-color: var(--fill-color);\n",
              "      border-left-color: var(--fill-color);\n",
              "    }\n",
              "    20% {\n",
              "      border-color: transparent;\n",
              "      border-left-color: var(--fill-color);\n",
              "      border-top-color: var(--fill-color);\n",
              "    }\n",
              "    30% {\n",
              "      border-color: transparent;\n",
              "      border-left-color: var(--fill-color);\n",
              "      border-top-color: var(--fill-color);\n",
              "      border-right-color: var(--fill-color);\n",
              "    }\n",
              "    40% {\n",
              "      border-color: transparent;\n",
              "      border-right-color: var(--fill-color);\n",
              "      border-top-color: var(--fill-color);\n",
              "    }\n",
              "    60% {\n",
              "      border-color: transparent;\n",
              "      border-right-color: var(--fill-color);\n",
              "    }\n",
              "    80% {\n",
              "      border-color: transparent;\n",
              "      border-right-color: var(--fill-color);\n",
              "      border-bottom-color: var(--fill-color);\n",
              "    }\n",
              "    90% {\n",
              "      border-color: transparent;\n",
              "      border-bottom-color: var(--fill-color);\n",
              "    }\n",
              "  }\n",
              "</style>\n",
              "\n",
              "  <script>\n",
              "    async function quickchart(key) {\n",
              "      const quickchartButtonEl =\n",
              "        document.querySelector('#' + key + ' button');\n",
              "      quickchartButtonEl.disabled = true;  // To prevent multiple clicks.\n",
              "      quickchartButtonEl.classList.add('colab-df-spinner');\n",
              "      try {\n",
              "        const charts = await google.colab.kernel.invokeFunction(\n",
              "            'suggestCharts', [key], {});\n",
              "      } catch (error) {\n",
              "        console.error('Error during call to suggestCharts:', error);\n",
              "      }\n",
              "      quickchartButtonEl.classList.remove('colab-df-spinner');\n",
              "      quickchartButtonEl.classList.add('colab-df-quickchart-complete');\n",
              "    }\n",
              "    (() => {\n",
              "      let quickchartButtonEl =\n",
              "        document.querySelector('#df-4c22f5f3-9b01-40a4-b3a0-45c9c41b9d45 button');\n",
              "      quickchartButtonEl.style.display =\n",
              "        google.colab.kernel.accessAllowed ? 'block' : 'none';\n",
              "    })();\n",
              "  </script>\n",
              "</div>\n",
              "\n",
              "    </div>\n",
              "  </div>\n"
            ],
            "application/vnd.google.colaboratory.intrinsic+json": {
              "type": "dataframe",
              "variable_name": "data",
              "summary": "{\n  \"name\": \"data\",\n  \"rows\": 9568,\n  \"fields\": [\n    {\n      \"column\": \"AT\",\n      \"properties\": {\n        \"dtype\": \"number\",\n        \"std\": 7.452473229611089,\n        \"min\": 1.81,\n        \"max\": 37.11,\n        \"num_unique_values\": 2773,\n        \"samples\": [\n          12.54,\n          4.49,\n          6.64\n        ],\n        \"semantic_type\": \"\",\n        \"description\": \"\"\n      }\n    },\n    {\n      \"column\": \"V\",\n      \"properties\": {\n        \"dtype\": \"number\",\n        \"std\": 12.707892998326871,\n        \"min\": 25.36,\n        \"max\": 81.56,\n        \"num_unique_values\": 634,\n        \"samples\": [\n          74.33,\n          73.67,\n          58.82\n        ],\n        \"semantic_type\": \"\",\n        \"description\": \"\"\n      }\n    },\n    {\n      \"column\": \"AP\",\n      \"properties\": {\n        \"dtype\": \"number\",\n        \"std\": 5.938783705811591,\n        \"min\": 992.89,\n        \"max\": 1033.3,\n        \"num_unique_values\": 2517,\n        \"samples\": [\n          1020.46,\n          1015.73,\n          1027.64\n        ],\n        \"semantic_type\": \"\",\n        \"description\": \"\"\n      }\n    },\n    {\n      \"column\": \"RH\",\n      \"properties\": {\n        \"dtype\": \"number\",\n        \"std\": 14.60026875672893,\n        \"min\": 25.56,\n        \"max\": 100.16,\n        \"num_unique_values\": 4546,\n        \"samples\": [\n          62.8,\n          82.33,\n          47.19\n        ],\n        \"semantic_type\": \"\",\n        \"description\": \"\"\n      }\n    },\n    {\n      \"column\": \"PE\",\n      \"properties\": {\n        \"dtype\": \"number\",\n        \"std\": 17.066994999803423,\n        \"min\": 420.26,\n        \"max\": 495.76,\n        \"num_unique_values\": 4836,\n        \"samples\": [\n          473.87,\n          475.41,\n          468.81\n        ],\n        \"semantic_type\": \"\",\n        \"description\": \"\"\n      }\n    }\n  ]\n}"
            }
          },
          "metadata": {},
          "execution_count": 2
        }
      ]
    },
    {
      "cell_type": "code",
      "metadata": {
        "id": "JnzdmW_DzRj4"
      },
      "source": [
        "# Split the inputs from the outputs\n",
        "datain = data.iloc[:,:-1]\n",
        "dataou = pd.DataFrame(data.iloc[:,-1])"
      ],
      "execution_count": 3,
      "outputs": []
    },
    {
      "cell_type": "code",
      "metadata": {
        "colab": {
          "base_uri": "https://localhost:8080/",
          "height": 1000
        },
        "id": "2p8kpbej2j2g",
        "outputId": "0b0602b3-f980-4000-b4e3-b6d6beea4279"
      },
      "source": [
        "# Make initial plots of data to understand structure\n",
        "for col in datain.columns:\n",
        "  output_label = dataou.columns[0]\n",
        "  plt.scatter((datain[col])**1,(dataou)**1)\n",
        "  plt.xlabel(col)\n",
        "  plt.ylabel(output_label)\n",
        "  plt.show()"
      ],
      "execution_count": 4,
      "outputs": [
        {
          "output_type": "display_data",
          "data": {
            "text/plain": [
              "<Figure size 640x480 with 1 Axes>"
            ],
            "image/png": "[encoded data removed]"
          },
          "metadata": {}
        },
        {
          "output_type": "display_data",
          "data": {
            "text/plain": [
              "<Figure size 640x480 with 1 Axes>"
            ],
            "image/png": "[encoded data removed]"
          },
          "metadata": {}
        },
        {
          "output_type": "display_data",
          "data": {
            "text/plain": [
              "<Figure size 640x480 with 1 Axes>"
            ],
            "image/png": "[encoded data removed]"
          },
          "metadata": {}
        },
        {
          "output_type": "display_data",
          "data": {
            "text/plain": [
              "<Figure size 640x480 with 1 Axes>"
            ],
            "image/png": "[encoded data removed]"
          },
          "metadata": {}
        }
      ]
    },
    {
      "cell_type": "markdown",
      "metadata": {
        "id": "juSoGk2LEjnE"
      },
      "source": [
        "### **Pre-processing Functions** ###"
      ]
    },
    {
      "cell_type": "code",
      "metadata": {
        "id": "XMS405qk3Sjo"
      },
      "source": [
        "# Data Preprocessing\n",
        "def data_prep(datain,dataou,rtt):\n",
        "\n",
        "  # Split the data into training and testing\n",
        "  datain_tr,datain_te,dataou_tr,dataou_te = train_test_split(datain,dataou,test_size=rtt,random_state=42)\n",
        "\n",
        "  # Scale the input data\n",
        "  scalerin = MinMaxScaler(feature_range=(0,1))\n",
        "  scalerin.fit(datain_tr)\n",
        "  datain_tr_scaled = scalerin.transform(datain_tr)\n",
        "  datain_te_scaled = scalerin.transform(datain_te)\n",
        "\n",
        "  # Scale the output data\n",
        "  scalerou = MinMaxScaler(feature_range=(0,1))\n",
        "  scalerou.fit(dataou_tr)\n",
        "  dataou_tr_scaled = scalerou.transform(dataou_tr)\n",
        "  dataou_te_scaled = scalerou.transform(dataou_te)\n",
        "\n",
        "  return datain_tr_scaled, datain_te_scaled, dataou_tr_scaled, dataou_te_scaled"
      ],
      "execution_count": 5,
      "outputs": []
    },
    {
      "cell_type": "markdown",
      "metadata": {
        "id": "NEJZ-GPDqJID"
      },
      "source": [
        "### **Post-processing Functions** ###"
      ]
    },
    {
      "cell_type": "code",
      "metadata": {
        "id": "dGxyytRFqJm7"
      },
      "source": [
        "# Mean Absolute Error Function\n",
        "def mae(dataou,dataes):\n",
        "  return sum(np.abs(dataou.ravel() - dataes))/len(dataou)\n",
        "\n",
        "# Mean Squared Value Function\n",
        "def mse(dataou,dataes):\n",
        "  return sum((dataou.ravel() - dataes)**2)/len(dataou)\n",
        "\n",
        "# Scatter Plot Functions\n",
        "def scatter_bisector_plots(dataou_tr,dataes_tr,dataou_te,dataes_te):\n",
        "  plt.plot(dataou_tr,dataes_tr,'.')\n",
        "  plt.plot([0,1],[0,1]);\n",
        "  plt.title('Training'), plt.xlabel('Observation'), plt.ylabel('Estimate')\n",
        "  plt.show()\n",
        "  plt.scatter(dataou_te,dataes_te)\n",
        "  plt.plot([0,1],[0,1]);\n",
        "  plt.title('Testing'), plt.xlabel('Observation'), plt.ylabel('Estimate')\n",
        "  plt.show()\n",
        "  training_mae = mae(dataou_tr,dataes_tr)\n",
        "  training_mse = mse(dataou_tr,dataes_tr)\n",
        "  testing_mae = mae(dataou_te,dataes_te)\n",
        "  testing_mse = mse(dataou_te,dataes_te)\n",
        "  #print(\"Training MAE: {:.4f}\".format(training_mae))\n",
        "  #print(\"Training MSE: {:.4f}\".format(training_mse))\n",
        "  #print(\"Testing MAE: {:.4f}\".format(testing_mae))\n",
        "  #print(\"Testing MSE: {:.4f}\".format(testing_mse))\n",
        "\n",
        "def performance_table(matrix,model_labels):\n",
        "  df = pd.DataFrame(matrix)\n",
        "  df.index = model_labels\n",
        "  return df"
      ],
      "execution_count": 6,
      "outputs": []
    },
    {
      "cell_type": "markdown",
      "metadata": {
        "id": "zhVrtDotqIKc"
      },
      "source": [
        "### **Model Training Functions** ###"
      ]
    },
    {
      "cell_type": "code",
      "metadata": {
        "id": "mkEfCPoCHcw7"
      },
      "source": [
        "# SVM Model training functions\n",
        "def train_pred_svm(datain_tr_scaled,dataou_tr_scaled,datain_te_scaled):\n",
        "  model = svr()\n",
        "  model.fit(datain_tr_scaled,dataou_tr_scaled.ravel())\n",
        "  return model.predict(datain_tr_scaled), model.predict(datain_te_scaled)"
      ],
      "execution_count": 7,
      "outputs": []
    },
    {
      "cell_type": "code",
      "metadata": {
        "id": "SFbY3yBYcNNE"
      },
      "source": [
        "# KNN Model Training Function\n",
        "def train_pred_knn(datain_tr_scaled,dataou_tr_scaled,datain_te_scaled):\n",
        "  model = knnr()\n",
        "  model.fit(datain_tr_scaled,dataou_tr_scaled.ravel())\n",
        "  return model.predict(datain_tr_scaled), model.predict(datain_te_scaled)"
      ],
      "execution_count": 8,
      "outputs": []
    },
    {
      "cell_type": "code",
      "metadata": {
        "id": "mF0pK7lEJNjb"
      },
      "source": [
        "# GPR Model Training Function\n",
        "def train_pred_gpr(datain_tr_scaled,dataou_tr_scaled,datain_te_scaled):\n",
        "  model = GaussianProcessRegressor()\n",
        "  model.fit(datain_tr_scaled,dataou_tr_scaled.ravel())\n",
        "  return model.predict(datain_tr_scaled), model.predict(datain_te_scaled)"
      ],
      "execution_count": 9,
      "outputs": []
    },
    {
      "cell_type": "code",
      "metadata": {
        "id": "dBbJFy34Pp48"
      },
      "source": [
        "# RFR Model Training Function\n",
        "def train_pred_rfr(datain_tr_scaled,dataou_tr_scaled,datain_te_scaled):\n",
        "  model = RandomForestRegressor()\n",
        "  model.fit(datain_tr_scaled,dataou_tr_scaled.ravel())\n",
        "  return model.predict(datain_tr_scaled), model.predict(datain_te_scaled)"
      ],
      "execution_count": 10,
      "outputs": []
    },
    {
      "cell_type": "code",
      "metadata": {
        "id": "kHjE6vNPSS1U"
      },
      "source": [
        "# RIDGE Model Training Function\n",
        "def train_pred_ridge(datain_tr_scaled,dataou_tr_scaled,datain_te_scaled):\n",
        "  model = Ridge(alpha=0.1)\n",
        "  model.fit(datain_tr_scaled,dataou_tr_scaled.ravel())\n",
        "  return model.predict(datain_tr_scaled), model.predict(datain_te_scaled)"
      ],
      "execution_count": 11,
      "outputs": []
    },
    {
      "cell_type": "code",
      "metadata": {
        "id": "NlPg4sQ4STSj"
      },
      "source": [
        "# LASSO Model Training Function\n",
        "def train_pred_lasso(datain_tr_scaled,dataou_tr_scaled,datain_te_scaled):\n",
        "  model = Lasso(alpha=0.01)\n",
        "  model.fit(datain_tr_scaled,dataou_tr_scaled.ravel())\n",
        "  return model.predict(datain_tr_scaled), model.predict(datain_te_scaled)"
      ],
      "execution_count": 12,
      "outputs": []
    },
    {
      "cell_type": "code",
      "metadata": {
        "id": "-07tfXpvUc0D"
      },
      "source": [
        "# ELASTIC-NET Model Training Function\n",
        "def train_pred_elasticnet(datain_tr_scaled,dataou_tr_scaled,datain_te_scaled):\n",
        "  model = ElasticNet(alpha=0.01,l1_ratio=0.5)\n",
        "  model.fit(datain_tr_scaled,dataou_tr_scaled.ravel())\n",
        "  return model.predict(datain_tr_scaled), model.predict(datain_te_scaled)"
      ],
      "execution_count": 13,
      "outputs": []
    },
    {
      "cell_type": "code",
      "metadata": {
        "id": "0UonncVrKHhZ"
      },
      "source": [
        "# DNN Model Training Function\n",
        "def train_pred_dnn(datain_tr_scaled,dataou_tr_scaled,datain_te_scaled):\n",
        "\n",
        "  # Unpack parameters\n",
        "  training_routine = 'adam'\n",
        "  loss_function = 'mean_squared_error'\n",
        "  val_split = 0.05\n",
        "  iterations = 250\n",
        "  show_iterations = 0\n",
        "  shuffle_condition = True\n",
        "  data_batch_size = 16\n",
        "  hidden_layers = [75,50,25,10]\n",
        "  drop_rate = [0.1,0.1,0.1,0.1]\n",
        "  activation_function = ['relu','relu','relu','relu']\n",
        "\n",
        "  # Define model\n",
        "  model = tf.keras.models.Sequential()\n",
        "\n",
        "  # Create Inpuut Layer\n",
        "  model.add(Dense(hidden_layers[0],activation=activation_function[0],input_dim=datain_tr_scaled.shape[1]))\n",
        "  model.add(Dropout(rate=drop_rate[0]))\n",
        "\n",
        "  # Create Hidden Layers\n",
        "  for i in np.arange(1,len(hidden_layers)):\n",
        "    model.add(Dense(hidden_layers[i],activation=activation_function[i]))\n",
        "    model.add(Dropout(rate=drop_rate[i]))\n",
        "\n",
        "  # Create Output Layer\n",
        "  model.add(Dense(dataou_tr_scaled.shape[1],activation=activation_function[-1]))\n",
        "\n",
        "  # Compile model and define optimization routine and objective function\n",
        "  model.compile(optimizer=training_routine,loss=loss_function)\n",
        "\n",
        "  # Show model summary\n",
        "  #model.summary()\n",
        "\n",
        "  # Fit Model\n",
        "  model_fit = model.fit(datain_tr_scaled,dataou_tr_scaled.ravel(),    # Dataset\n",
        "                        epochs=iterations,                    # Iterations\n",
        "                        batch_size=data_batch_size,           # Batch size\n",
        "                        verbose=show_iterations,              # Show iterations\n",
        "                        shuffle=shuffle_condition,            # Shuffle\n",
        "                        validation_split=val_split)           # Validation split\n",
        "\n",
        "  return model.predict(datain_tr_scaled), model.predict(datain_te_scaled), model_fit"
      ],
      "execution_count": 14,
      "outputs": []
    },
    {
      "cell_type": "markdown",
      "metadata": {
        "id": "ddvnMYtMsZdy"
      },
      "source": [
        "### **Run All Models** ###"
      ]
    },
    {
      "cell_type": "code",
      "metadata": {
        "id": "1lbD_Mx2rEHT",
        "colab": {
          "base_uri": "https://localhost:8080/"
        },
        "outputId": "9ffa1eae-e377-462c-eede-91794663fe01"
      },
      "source": [
        "RTT = [0.1,0.3,0.5]\n",
        "RRS = 5\n",
        "rtt_count = 0\n",
        "plcount = 1\n",
        "mae_tr = np.zeros((len(RTT*8),RRS))\n",
        "mae_te = np.zeros((len(RTT*8),RRS))\n",
        "mse_tr = np.zeros((len(RTT*8),RRS))\n",
        "mse_te = np.zeros((len(RTT*8),RRS))\n",
        "\n",
        "# Create figures for training plots\n",
        "f1 = plt.figure(figsize=(15,20))   # RIDGE\n",
        "f2 = plt.figure(figsize=(15,20))   # LASSO\n",
        "f3 = plt.figure(figsize=(15,20))   # ELASTIC\n",
        "f4 = plt.figure(figsize=(15,20))   # SVM\n",
        "f5 = plt.figure(figsize=(15,20))   # KNN\n",
        "f6 = plt.figure(figsize=(15,20))   # GPR\n",
        "f7 = plt.figure(figsize=(15,20))   # RFR\n",
        "f8 = plt.figure(figsize=(15,20))   # DNN\n",
        "f9 = plt.figure(figsize=(15,120))   # DNN\n",
        "\n",
        "# Put super titles\n",
        "f1.suptitle(\"RIDGE: Training Data\", fontsize=28)\n",
        "f2.suptitle(\"LASSO: Training Data\", fontsize=28)\n",
        "f3.suptitle(\"ELASTIC: Training Data\", fontsize=28)\n",
        "f4.suptitle(\"SVM: Training Data\", fontsize=28)\n",
        "f5.suptitle(\"KNN: Training Data\", fontsize=28)\n",
        "f6.suptitle(\"GPR: Training Data\", fontsize=28)\n",
        "f7.suptitle(\"RFR: Training Data\", fontsize=28)\n",
        "f8.suptitle(\"DNN Training Data\", fontsize=28)\n",
        "f9.suptitle(\"DNN Convergence and Validation\", fontsize=28)\n",
        "\n",
        "# Create figures for testing plots\n",
        "g1 = plt.figure(figsize=(15,20))   # RIDGE\n",
        "g2 = plt.figure(figsize=(15,20))   # LASSO\n",
        "g3 = plt.figure(figsize=(15,20))   # ELASTIC\n",
        "g4 = plt.figure(figsize=(15,20))   # SVM\n",
        "g5 = plt.figure(figsize=(15,20))   # KNN\n",
        "g6 = plt.figure(figsize=(15,20))   # GPR\n",
        "g7 = plt.figure(figsize=(15,20))   # RFR\n",
        "g8 = plt.figure(figsize=(15,20))   # DNN\n",
        "\n",
        "# Put super titles\n",
        "g1.suptitle(\"RIDGE: Testing Data\", fontsize=28)\n",
        "g2.suptitle(\"LASSO: Testing Data\", fontsize=28)\n",
        "g3.suptitle(\"ELASTIC: Testing Data\", fontsize=28)\n",
        "g4.suptitle(\"SVM: Testing Data\", fontsize=28)\n",
        "g5.suptitle(\"KNN: Testing Data\", fontsize=28)\n",
        "g6.suptitle(\"GPR: Testing Data\", fontsize=28)\n",
        "g7.suptitle(\"RFR: Testing Data\", fontsize=28)\n",
        "g8.suptitle(\"DNN: Testing Data\", fontsize=28)\n",
        "\n",
        "# Create Model Labels to produce the tables\n",
        "model_labels = []\n",
        "for rtt in RTT:\n",
        "  model_labels.extend(['RTT = ' + str(rtt) + ', RIDGE',\n",
        "                  'RTT = ' + str(rtt) + ', LASSO',\n",
        "                  'RTT = ' + str(rtt) + ', ELASTIC',\n",
        "                  'RTT = ' + str(rtt) + ', SVM',\n",
        "                  'RTT = ' + str(rtt) + ', KNN',\n",
        "                  'RTT = ' + str(rtt) + ', GPR',\n",
        "                  'RTT = ' + str(rtt) + ', RFR',\n",
        "                  'RTT = ' + str(rtt) + ', DNN'])\n",
        "\n",
        "for rtt in RTT:\n",
        "  for rrs in np.arange(RRS):\n",
        "\n",
        "    # Prompt User the RTT and RRS\n",
        "    print(\"RTT = \" + str(rtt) + \", RRS = \" + str(rrs))\n",
        "\n",
        "    # Call pre-processor\n",
        "    datain_tr_scaled, datain_te_scaled, dataou_tr_scaled, dataou_te_scaled = data_prep(datain,dataou,rtt)\n",
        "\n",
        "    # Train Ridge\n",
        "    print('Training Ridge')\n",
        "    dataes_tr_scaled, dataes_te_scaled = train_pred_ridge(datain_tr_scaled,dataou_tr_scaled,datain_te_scaled)\n",
        "    training_mae = mae(dataou_tr_scaled,dataes_tr_scaled)\n",
        "    training_mse = mse(dataou_tr_scaled,dataes_tr_scaled)\n",
        "    testing_mae = mae(dataou_te_scaled,dataes_te_scaled)\n",
        "    testing_mse = mse(dataou_te_scaled,dataes_te_scaled)\n",
        "    mae_tr[0+8*rtt_count,rrs] = training_mae\n",
        "    mse_tr[0+8*rtt_count,rrs] = training_mse\n",
        "    mae_te[0+8*rtt_count,rrs] = testing_mae\n",
        "    mse_te[0+8*rtt_count,rrs] = testing_mse\n",
        "    ax1 = f1.add_subplot(len(RTT),RRS,plcount)\n",
        "    ax1.plot(dataou_tr_scaled,dataes_tr_scaled,'.',markersize=10);  # Predictions vs. Data\n",
        "    ax1.plot([0,1],[0,1]);                                          # Bisector Line\n",
        "    ax1.set_xlabel('Observations');\n",
        "    ax1.set_ylabel('Predictions');\n",
        "    ax1.legend(['Data','Bisector Line']);\n",
        "    ax1.set_title('RTT = ' + str(rtt) + ', RRS = ' + str(rrs+1));\n",
        "    bx1 = g1.add_subplot(len(RTT),RRS,plcount)\n",
        "    bx1.plot(dataou_tr_scaled,dataes_tr_scaled,'.',markersize=10);  # Predictions vs. Data\n",
        "    bx1.plot([0,1],[0,1]);                                          # Bisector Line\n",
        "    bx1.set_xlabel('Observations');\n",
        "    bx1.set_ylabel('Predictions');\n",
        "    bx1.legend(['Data','Bisector Line']);\n",
        "    bx1.set_title('RTT = ' + str(rtt) + ', RRS = ' + str(rrs+1));\n",
        "\n",
        "    # Train Lasso\n",
        "    print('Training Lasso')\n",
        "    dataes_tr_scaled, dataes_te_scaled = train_pred_lasso(datain_tr_scaled,dataou_tr_scaled,datain_te_scaled)\n",
        "    training_mae = mae(dataou_tr_scaled,dataes_tr_scaled)\n",
        "    training_mse = mse(dataou_tr_scaled,dataes_tr_scaled)\n",
        "    testing_mae = mae(dataou_te_scaled,dataes_te_scaled)\n",
        "    testing_mse = mse(dataou_te_scaled,dataes_te_scaled)\n",
        "    mae_tr[1+8*rtt_count,rrs] = training_mae\n",
        "    mse_tr[1+8*rtt_count,rrs] = training_mse\n",
        "    mae_te[1+8*rtt_count,rrs] = testing_mae\n",
        "    mse_te[1+8*rtt_count,rrs] = testing_mse\n",
        "    ax2 = f2.add_subplot(len(RTT),RRS,plcount)\n",
        "    ax2.plot(dataou_tr_scaled,dataes_tr_scaled,'.',markersize=10);  # Predictions vs. Data\n",
        "    ax2.plot([0,1],[0,1]);                                          # Bisector Line\n",
        "    ax2.set_xlabel('Observations');\n",
        "    ax2.set_ylabel('Predictions');\n",
        "    ax2.legend(['Data','Bisector Line']);\n",
        "    ax2.set_title('RTT = ' + str(rtt) + ', RRS = ' + str(rrs+1));\n",
        "    bx2 = g2.add_subplot(len(RTT),RRS,plcount)\n",
        "    bx2.plot(dataou_tr_scaled,dataes_tr_scaled,'.',markersize=10);  # Predictions vs. Data\n",
        "    bx2.plot([0,1],[0,1]);                                          # Bisector Line\n",
        "    bx2.set_xlabel('Observations');\n",
        "    bx2.set_ylabel('Predictions');\n",
        "    bx2.legend(['Data','Bisector Line']);\n",
        "    bx2.set_title('RTT = ' + str(rtt) + ', RRS = ' + str(rrs+1));\n",
        "\n",
        "    # Train ElasticNet\n",
        "    print('Training Elastic-Net')\n",
        "    dataes_tr_scaled, dataes_te_scaled = train_pred_elasticnet(datain_tr_scaled,dataou_tr_scaled,datain_te_scaled)\n",
        "    training_mae = mae(dataou_tr_scaled,dataes_tr_scaled)\n",
        "    training_mse = mse(dataou_tr_scaled,dataes_tr_scaled)\n",
        "    testing_mae = mae(dataou_te_scaled,dataes_te_scaled)\n",
        "    testing_mse = mse(dataou_te_scaled,dataes_te_scaled)\n",
        "    mae_tr[2+8*rtt_count,rrs] = training_mae\n",
        "    mse_tr[2+8*rtt_count,rrs] = training_mse\n",
        "    mae_te[2+8*rtt_count,rrs] = testing_mae\n",
        "    mse_te[2+8*rtt_count,rrs] = testing_mse\n",
        "    ax3 = f3.add_subplot(len(RTT),RRS,plcount)\n",
        "    ax3.plot(dataou_tr_scaled,dataes_tr_scaled,'.',markersize=10);  # Predictions vs. Data\n",
        "    ax3.plot([0,1],[0,1]);                                          # Bisector Line\n",
        "    ax3.set_xlabel('Observations');\n",
        "    ax3.set_ylabel('Predictions');\n",
        "    ax3.legend(['Data','Bisector Line']);\n",
        "    ax3.set_title('RTT = ' + str(rtt) + ', RRS = ' + str(rrs+1));\n",
        "    bx3 = g3.add_subplot(len(RTT),RRS,plcount)\n",
        "    bx3.plot(dataou_tr_scaled,dataes_tr_scaled,'.',markersize=10);  # Predictions vs. Data\n",
        "    bx3.plot([0,1],[0,1]);                                          # Bisector Line\n",
        "    bx3.set_xlabel('Observations');\n",
        "    bx3.set_ylabel('Predictions');\n",
        "    bx3.legend(['Data','Bisector Line']);\n",
        "    bx3.set_title('RTT = ' + str(rtt) + ', RRS = ' + str(rrs+1));\n",
        "\n",
        "\n",
        "    # Train SVM\n",
        "    print('Training SVM')\n",
        "    dataes_tr_scaled, dataes_te_scaled = train_pred_svm(datain_tr_scaled,dataou_tr_scaled,datain_te_scaled)\n",
        "    training_mae = mae(dataou_tr_scaled,dataes_tr_scaled)\n",
        "    training_mse = mse(dataou_tr_scaled,dataes_tr_scaled)\n",
        "    testing_mae = mae(dataou_te_scaled,dataes_te_scaled)\n",
        "    testing_mse = mse(dataou_te_scaled,dataes_te_scaled)\n",
        "    mae_tr[3+8*rtt_count,rrs] = training_mae\n",
        "    mse_tr[3+8*rtt_count,rrs] = training_mse\n",
        "    mae_te[3+8*rtt_count,rrs] = testing_mae\n",
        "    mse_te[3+8*rtt_count,rrs] = testing_mse\n",
        "    ax4 = f4.add_subplot(len(RTT),RRS,plcount)\n",
        "    ax4.plot(dataou_tr_scaled,dataes_tr_scaled,'.',markersize=10);  # Predictions vs. Data\n",
        "    ax4.plot([0,1],[0,1]);                                          # Bisector Line\n",
        "    ax4.set_xlabel('Observations');\n",
        "    ax4.set_ylabel('Predictions');\n",
        "    ax4.legend(['Data','Bisector Line']);\n",
        "    ax4.set_title('RTT = ' + str(rtt) + ', RRS = ' + str(rrs+1));\n",
        "    bx4 = g4.add_subplot(len(RTT),RRS,plcount)\n",
        "    bx4.plot(dataou_tr_scaled,dataes_tr_scaled,'.',markersize=10);  # Predictions vs. Data\n",
        "    bx4.plot([0,1],[0,1]);                                          # Bisector Line\n",
        "    bx4.set_xlabel('Observations');\n",
        "    bx4.set_ylabel('Predictions');\n",
        "    bx4.legend(['Data','Bisector Line']);\n",
        "    bx4.set_title('RTT = ' + str(rtt) + ', RRS = ' + str(rrs+1));\n",
        "\n",
        "    # Train KNN\n",
        "    print('Training KNN')\n",
        "    dataes_tr_scaled, dataes_te_scaled = train_pred_knn(datain_tr_scaled,dataou_tr_scaled,datain_te_scaled)\n",
        "    training_mae = mae(dataou_tr_scaled,dataes_tr_scaled)\n",
        "    training_mse = mse(dataou_tr_scaled,dataes_tr_scaled)\n",
        "    testing_mae = mae(dataou_te_scaled,dataes_te_scaled)\n",
        "    testing_mse = mse(dataou_te_scaled,dataes_te_scaled)\n",
        "    mae_tr[4+8*rtt_count,rrs] = training_mae\n",
        "    mse_tr[4+8*rtt_count,rrs] = training_mse\n",
        "    mae_te[4+8*rtt_count,rrs] = testing_mae\n",
        "    mse_te[4+8*rtt_count,rrs] = testing_mse\n",
        "    ax5 = f5.add_subplot(len(RTT),RRS,plcount)\n",
        "    ax5.plot(dataou_tr_scaled,dataes_tr_scaled,'.',markersize=10);  # Predictions vs. Data\n",
        "    ax5.plot([0,1],[0,1]);                                          # Bisector Line\n",
        "    ax5.set_xlabel('Observations');\n",
        "    ax5.set_ylabel('Predictions');\n",
        "    ax5.legend(['Data','Bisector Line']);\n",
        "    ax5.set_title('RTT = ' + str(rtt) + ', RRS = ' + str(rrs+1));\n",
        "    bx5 = g5.add_subplot(len(RTT),RRS,plcount)\n",
        "    bx5.plot(dataou_tr_scaled,dataes_tr_scaled,'.',markersize=10);  # Predictions vs. Data\n",
        "    bx5.plot([0,1],[0,1]);                                          # Bisector Line\n",
        "    bx5.set_xlabel('Observations');\n",
        "    bx5.set_ylabel('Predictions');\n",
        "    bx5.legend(['Data','Bisector Line']);\n",
        "    bx5.set_title('RTT = ' + str(rtt) + ', RRS = ' + str(rrs+1));\n",
        "\n",
        "    # Train GPR\n",
        "    print('Training GPR')\n",
        "    dataes_tr_scaled, dataes_te_scaled = train_pred_gpr(datain_tr_scaled,dataou_tr_scaled,datain_te_scaled)\n",
        "    training_mae = mae(dataou_tr_scaled,dataes_tr_scaled)\n",
        "    training_mse = mse(dataou_tr_scaled,dataes_tr_scaled)\n",
        "    testing_mae = mae(dataou_te_scaled,dataes_te_scaled)\n",
        "    testing_mse = mse(dataou_te_scaled,dataes_te_scaled)\n",
        "    mae_tr[5+8*rtt_count,rrs] = training_mae\n",
        "    mse_tr[5+8*rtt_count,rrs] = training_mse\n",
        "    mae_te[5+8*rtt_count,rrs] = testing_mae\n",
        "    mse_te[5+8*rtt_count,rrs] = testing_mse\n",
        "    ax6 = f6.add_subplot(len(RTT),RRS,plcount)\n",
        "    ax6.plot(dataou_tr_scaled,dataes_tr_scaled,'.',markersize=10);  # Predictions vs. Data\n",
        "    ax6.plot([0,1],[0,1]);                                          # Bisector Line\n",
        "    ax6.set_xlabel('Observations');\n",
        "    ax6.set_ylabel('Predictions');\n",
        "    ax6.legend(['Data','Bisector Line']);\n",
        "    ax6.set_title('RTT = ' + str(rtt) + ', RRS = ' + str(rrs+1));\n",
        "    bx6 = g6.add_subplot(len(RTT),RRS,plcount)\n",
        "    bx6.plot(dataou_tr_scaled,dataes_tr_scaled,'.',markersize=10);  # Predictions vs. Data\n",
        "    bx6.plot([0,1],[0,1]);                                          # Bisector Line\n",
        "    bx6.set_xlabel('Observations');\n",
        "    bx6.set_ylabel('Predictions');\n",
        "    bx6.legend(['Data','Bisector Line']);\n",
        "    bx6.set_title('RTT = ' + str(rtt) + ', RRS = ' + str(rrs+1));\n",
        "\n",
        "    # Train RFR\n",
        "    print('Training RFR')\n",
        "    dataes_tr_scaled, dataes_te_scaled = train_pred_rfr(datain_tr_scaled,dataou_tr_scaled,datain_te_scaled)\n",
        "    training_mae = mae(dataou_tr_scaled,dataes_tr_scaled)\n",
        "    training_mse = mse(dataou_tr_scaled,dataes_tr_scaled)\n",
        "    testing_mae = mae(dataou_te_scaled,dataes_te_scaled)\n",
        "    testing_mse = mse(dataou_te_scaled,dataes_te_scaled)\n",
        "    mae_tr[6+8*rtt_count,rrs] = training_mae\n",
        "    mse_tr[6+8*rtt_count,rrs] = training_mse\n",
        "    mae_te[6+8*rtt_count,rrs] = testing_mae\n",
        "    mse_te[6+8*rtt_count,rrs] = testing_mse\n",
        "    ax7 = f7.add_subplot(len(RTT),RRS,plcount)\n",
        "    ax7.plot(dataou_tr_scaled,dataes_tr_scaled,'.',markersize=10);  # Predictions vs. Data\n",
        "    ax7.plot([0,1],[0,1]);                                          # Bisector Line\n",
        "    ax7.set_xlabel('Observations');\n",
        "    ax7.set_ylabel('Predictions');\n",
        "    ax7.legend(['Data','Bisector Line']);\n",
        "    ax7.set_title('RTT = ' + str(rtt) + ', RRS = ' + str(rrs+1));\n",
        "    bx7 = g7.add_subplot(len(RTT),RRS,plcount)\n",
        "    bx7.plot(dataou_tr_scaled,dataes_tr_scaled,'.',markersize=10);  # Predictions vs. Data\n",
        "    bx7.plot([0,1],[0,1]);                                          # Bisector Line\n",
        "    bx7.set_xlabel('Observations');\n",
        "    bx7.set_ylabel('Predictions');\n",
        "    bx7.legend(['Data','Bisector Line']);\n",
        "    bx7.set_title('RTT = ' + str(rtt) + ', RRS = ' + str(rrs+1));\n",
        "\n",
        "    # Train DNN\n",
        "    print('Training DNN')\n",
        "    dataes_tr_scaled, dataes_te_scaled, dnn_fit = train_pred_dnn(datain_tr_scaled,dataou_tr_scaled,datain_te_scaled)\n",
        "    training_mae = mae(dataou_tr_scaled,dataes_tr_scaled.ravel())\n",
        "    training_mse = mse(dataou_tr_scaled,dataes_tr_scaled.ravel())\n",
        "    testing_mae = mae(dataou_te_scaled,dataes_te_scaled.ravel())\n",
        "    testing_mse = mse(dataou_te_scaled,dataes_te_scaled.ravel())\n",
        "    mae_tr[7+8*rtt_count,rrs] = training_mae\n",
        "    mse_tr[7+8*rtt_count,rrs] = training_mse\n",
        "    mae_te[7+8*rtt_count,rrs] = testing_mae\n",
        "    mse_te[7+8*rtt_count,rrs] = testing_mse\n",
        "    ax8 = f8.add_subplot(len(RTT),RRS,plcount)\n",
        "    ax8.plot(dataou_tr_scaled,dataes_tr_scaled,'.',markersize=10);  # Predictions vs. Data\n",
        "    ax8.plot([0,1],[0,1]);                                          # Bisector Line\n",
        "    ax8.set_xlabel('Observations');\n",
        "    ax8.set_ylabel('Predictions');\n",
        "    ax8.legend(['Data','Bisector Line']);\n",
        "    ax8.set_title('RTT = ' + str(rtt) + ', RRS = ' + str(rrs+1));\n",
        "    bx8 = g8.add_subplot(len(RTT),RRS,plcount)\n",
        "    bx8.plot(dataou_tr_scaled,dataes_tr_scaled,'.',markersize=10);  # Predictions vs. Data\n",
        "    bx8.plot([0,1],[0,1]);                                          # Bisector Line\n",
        "    bx8.set_xlabel('Observations');\n",
        "    bx8.set_ylabel('Predictions');\n",
        "    bx8.legend(['Data','Bisector Line']);\n",
        "    bx8.set_title('RTT = ' + str(rtt) + ', RRS = ' + str(rrs+1));\n",
        "    cx = f9.add_subplot(len(RTT)*RRS,1,plcount)\n",
        "    cx.plot(np.log(dnn_fit.history['loss']),'--');\n",
        "    cx.plot(np.log(dnn_fit.history['val_loss']),'--');\n",
        "    cx.set_xlabel('Epoch')\n",
        "    cx.set_ylabel('Model Loss');\n",
        "    cx.legend(['Loss','Validation Loss']);\n",
        "    cx.set_title('RTT = ' + str(rtt) + ', RRS = ' + str(rrs+1));\n",
        "    #plt.show()\n",
        "    plcount = plcount + 1\n",
        "  rtt_count = rtt_count + 1\n",
        ""
      ],
      "execution_count": null,
      "outputs": [
        {
          "output_type": "stream",
          "name": "stdout",
          "text": [
            "RTT = 0.1, RRS = 0\n",
            "Training Ridge\n",
            "Training Lasso\n",
            "Training Elastic-Net\n",
            "Training SVM\n",
            "Training KNN\n",
            "Training GPR\n",
            "Training RFR\n",
            "Training DNN\n"
          ]
        },
        {
          "output_type": "stream",
          "name": "stderr",
          "text": [
            "/usr/local/lib/python3.11/dist-packages/keras/src/layers/core/dense.py:87: UserWarning: Do not pass an `input_shape`/`input_dim` argument to a layer. When using Sequential models, prefer using an `Input(shape)` object as the first layer in the model instead.\n",
            "  super().__init__(activity_regularizer=activity_regularizer, **kwargs)\n"
          ]
        },
        {
          "output_type": "stream",
          "name": "stdout",
          "text": [
            "\u001b[1m270/270\u001b[0m \u001b[32m━━━━━━━━━━━━━━━━━━━━\u001b[0m\u001b[37m\u001b[0m \u001b[1m1s\u001b[0m 3ms/step\n",
            "\u001b[1m30/30\u001b[0m \u001b[32m━━━━━━━━━━━━━━━━━━━━\u001b[0m\u001b[37m\u001b[0m \u001b[1m0s\u001b[0m 10ms/step\n",
            "RTT = 0.1, RRS = 1\n",
            "Training Ridge\n",
            "Training Lasso\n",
            "Training Elastic-Net\n",
            "Training SVM\n",
            "Training KNN\n",
            "Training GPR\n",
            "Training RFR\n",
            "Training DNN\n"
          ]
        },
        {
          "output_type": "stream",
          "name": "stderr",
          "text": [
            "/usr/local/lib/python3.11/dist-packages/keras/src/layers/core/dense.py:87: UserWarning: Do not pass an `input_shape`/`input_dim` argument to a layer. When using Sequential models, prefer using an `Input(shape)` object as the first layer in the model instead.\n",
            "  super().__init__(activity_regularizer=activity_regularizer, **kwargs)\n"
          ]
        },
        {
          "output_type": "stream",
          "name": "stdout",
          "text": [
            "\u001b[1m270/270\u001b[0m \u001b[32m━━━━━━━━━━━━━━━━━━━━\u001b[0m\u001b[37m\u001b[0m \u001b[1m1s\u001b[0m 3ms/step\n",
            "\u001b[1m30/30\u001b[0m \u001b[32m━━━━━━━━━━━━━━━━━━━━\u001b[0m\u001b[37m\u001b[0m \u001b[1m0s\u001b[0m 8ms/step\n",
            "RTT = 0.1, RRS = 2\n",
            "Training Ridge\n",
            "Training Lasso\n",
            "Training Elastic-Net\n",
            "Training SVM\n",
            "Training KNN\n",
            "Training GPR\n",
            "Training RFR\n",
            "Training DNN\n"
          ]
        },
        {
          "output_type": "stream",
          "name": "stderr",
          "text": [
            "/usr/local/lib/python3.11/dist-packages/keras/src/layers/core/dense.py:87: UserWarning: Do not pass an `input_shape`/`input_dim` argument to a layer. When using Sequential models, prefer using an `Input(shape)` object as the first layer in the model instead.\n",
            "  super().__init__(activity_regularizer=activity_regularizer, **kwargs)\n"
          ]
        },
        {
          "output_type": "stream",
          "name": "stdout",
          "text": [
            "\u001b[1m270/270\u001b[0m \u001b[32m━━━━━━━━━━━━━━━━━━━━\u001b[0m\u001b[37m\u001b[0m \u001b[1m1s\u001b[0m 2ms/step\n",
            "\u001b[1m30/30\u001b[0m \u001b[32m━━━━━━━━━━━━━━━━━━━━\u001b[0m\u001b[37m\u001b[0m \u001b[1m0s\u001b[0m 5ms/step\n",
            "RTT = 0.1, RRS = 3\n",
            "Training Ridge\n",
            "Training Lasso\n",
            "Training Elastic-Net\n",
            "Training SVM\n",
            "Training KNN\n",
            "Training GPR\n",
            "Training RFR\n",
            "Training DNN\n"
          ]
        },
        {
          "output_type": "stream",
          "name": "stderr",
          "text": [
            "/usr/local/lib/python3.11/dist-packages/keras/src/layers/core/dense.py:87: UserWarning: Do not pass an `input_shape`/`input_dim` argument to a layer. When using Sequential models, prefer using an `Input(shape)` object as the first layer in the model instead.\n",
            "  super().__init__(activity_regularizer=activity_regularizer, **kwargs)\n"
          ]
        },
        {
          "output_type": "stream",
          "name": "stdout",
          "text": [
            "\u001b[1m270/270\u001b[0m \u001b[32m━━━━━━━━━━━━━━━━━━━━\u001b[0m\u001b[37m\u001b[0m \u001b[1m1s\u001b[0m 2ms/step\n",
            "\u001b[1m30/30\u001b[0m \u001b[32m━━━━━━━━━━━━━━━━━━━━\u001b[0m\u001b[37m\u001b[0m \u001b[1m0s\u001b[0m 5ms/step\n",
            "RTT = 0.1, RRS = 4\n",
            "Training Ridge\n",
            "Training Lasso\n",
            "Training Elastic-Net\n",
            "Training SVM\n",
            "Training KNN\n",
            "Training GPR\n",
            "Training RFR\n",
            "Training DNN\n"
          ]
        },
        {
          "output_type": "stream",
          "name": "stderr",
          "text": [
            "/usr/local/lib/python3.11/dist-packages/keras/src/layers/core/dense.py:87: UserWarning: Do not pass an `input_shape`/`input_dim` argument to a layer. When using Sequential models, prefer using an `Input(shape)` object as the first layer in the model instead.\n",
            "  super().__init__(activity_regularizer=activity_regularizer, **kwargs)\n"
          ]
        },
        {
          "output_type": "stream",
          "name": "stdout",
          "text": [
            "\u001b[1m270/270\u001b[0m \u001b[32m━━━━━━━━━━━━━━━━━━━━\u001b[0m\u001b[37m\u001b[0m \u001b[1m1s\u001b[0m 3ms/step\n",
            "\u001b[1m30/30\u001b[0m \u001b[32m━━━━━━━━━━━━━━━━━━━━\u001b[0m\u001b[37m\u001b[0m \u001b[1m0s\u001b[0m 8ms/step\n",
            "RTT = 0.3, RRS = 0\n",
            "Training Ridge\n",
            "Training Lasso\n",
            "Training Elastic-Net\n",
            "Training SVM\n",
            "Training KNN\n",
            "Training GPR\n",
            "Training RFR\n",
            "Training DNN\n"
          ]
        },
        {
          "output_type": "stream",
          "name": "stderr",
          "text": [
            "/usr/local/lib/python3.11/dist-packages/keras/src/layers/core/dense.py:87: UserWarning: Do not pass an `input_shape`/`input_dim` argument to a layer. When using Sequential models, prefer using an `Input(shape)` object as the first layer in the model instead.\n",
            "  super().__init__(activity_regularizer=activity_regularizer, **kwargs)\n"
          ]
        },
        {
          "output_type": "stream",
          "name": "stdout",
          "text": [
            "\u001b[1m210/210\u001b[0m \u001b[32m━━━━━━━━━━━━━━━━━━━━\u001b[0m\u001b[37m\u001b[0m \u001b[1m1s\u001b[0m 3ms/step\n",
            "\u001b[1m90/90\u001b[0m \u001b[32m━━━━━━━━━━━━━━━━━━━━\u001b[0m\u001b[37m\u001b[0m \u001b[1m0s\u001b[0m 4ms/step\n",
            "RTT = 0.3, RRS = 1\n",
            "Training Ridge\n",
            "Training Lasso\n",
            "Training Elastic-Net\n",
            "Training SVM\n",
            "Training KNN\n",
            "Training GPR\n",
            "Training RFR\n",
            "Training DNN\n"
          ]
        },
        {
          "output_type": "stream",
          "name": "stderr",
          "text": [
            "/usr/local/lib/python3.11/dist-packages/keras/src/layers/core/dense.py:87: UserWarning: Do not pass an `input_shape`/`input_dim` argument to a layer. When using Sequential models, prefer using an `Input(shape)` object as the first layer in the model instead.\n",
            "  super().__init__(activity_regularizer=activity_regularizer, **kwargs)\n"
          ]
        },
        {
          "output_type": "stream",
          "name": "stdout",
          "text": [
            "\u001b[1m210/210\u001b[0m \u001b[32m━━━━━━━━━━━━━━━━━━━━\u001b[0m\u001b[37m\u001b[0m \u001b[1m1s\u001b[0m 2ms/step\n",
            "\u001b[1m90/90\u001b[0m \u001b[32m━━━━━━━━━━━━━━━━━━━━\u001b[0m\u001b[37m\u001b[0m \u001b[1m0s\u001b[0m 3ms/step\n",
            "RTT = 0.3, RRS = 2\n",
            "Training Ridge\n",
            "Training Lasso\n",
            "Training Elastic-Net\n",
            "Training SVM\n",
            "Training KNN\n",
            "Training GPR\n",
            "Training RFR\n",
            "Training DNN\n"
          ]
        },
        {
          "output_type": "stream",
          "name": "stderr",
          "text": [
            "/usr/local/lib/python3.11/dist-packages/keras/src/layers/core/dense.py:87: UserWarning: Do not pass an `input_shape`/`input_dim` argument to a layer. When using Sequential models, prefer using an `Input(shape)` object as the first layer in the model instead.\n",
            "  super().__init__(activity_regularizer=activity_regularizer, **kwargs)\n"
          ]
        },
        {
          "output_type": "stream",
          "name": "stdout",
          "text": [
            "\u001b[1m210/210\u001b[0m \u001b[32m━━━━━━━━━━━━━━━━━━━━\u001b[0m\u001b[37m\u001b[0m \u001b[1m1s\u001b[0m 2ms/step\n",
            "\u001b[1m90/90\u001b[0m \u001b[32m━━━━━━━━━━━━━━━━━━━━\u001b[0m\u001b[37m\u001b[0m \u001b[1m0s\u001b[0m 3ms/step\n",
            "RTT = 0.3, RRS = 3\n",
            "Training Ridge\n",
            "Training Lasso\n",
            "Training Elastic-Net\n",
            "Training SVM\n",
            "Training KNN\n",
            "Training GPR\n",
            "Training RFR\n",
            "Training DNN\n"
          ]
        },
        {
          "output_type": "stream",
          "name": "stderr",
          "text": [
            "/usr/local/lib/python3.11/dist-packages/keras/src/layers/core/dense.py:87: UserWarning: Do not pass an `input_shape`/`input_dim` argument to a layer. When using Sequential models, prefer using an `Input(shape)` object as the first layer in the model instead.\n",
            "  super().__init__(activity_regularizer=activity_regularizer, **kwargs)\n"
          ]
        }
      ]
    },
    {
      "cell_type": "code",
      "metadata": {
        "id": "xdvsgHc1JsX3"
      },
      "source": [
        "print(\"Training MAE\")\n",
        "mae_tr_table = performance_table(mae_tr,model_labels)\n",
        "mae_tr_table"
      ],
      "execution_count": null,
      "outputs": []
    },
    {
      "cell_type": "code",
      "metadata": {
        "id": "Xdg9To_ZNuxz"
      },
      "source": [
        "print(\"Training MSE\")\n",
        "mse_tr_table = performance_table(mse_tr,model_labels)\n",
        "mse_tr_table"
      ],
      "execution_count": null,
      "outputs": []
    },
    {
      "cell_type": "code",
      "metadata": {
        "id": "mVHT16sSOZjl"
      },
      "source": [
        "print(\"Testing MAE\")\n",
        "mae_te_table = performance_table(mae_te,model_labels)\n",
        "mae_te_table"
      ],
      "execution_count": null,
      "outputs": []
    },
    {
      "cell_type": "code",
      "metadata": {
        "id": "tFvaRJpFOa_F"
      },
      "source": [
        "print(\"Testing MSE\")\n",
        "mse_te_table = performance_table(mse_te,model_labels)\n",
        "mse_te_table"
      ],
      "execution_count": null,
      "outputs": []
    },
    {
      "cell_type": "code",
      "metadata": {
        "id": "po7jMiYnBQnd"
      },
      "source": [],
      "execution_count": null,
      "outputs": []
    }
  ]
}